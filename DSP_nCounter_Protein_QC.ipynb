{
 "cells": [
  {
   "cell_type": "code",
   "execution_count": null,
   "id": "cfc5a611",
   "metadata": {},
   "outputs": [],
   "source": [
    "import pandas as pd\n",
    "from openpyxl import load_workbook\n",
    "from scipy import stats as stats\n",
    "import matplotlib.pyplot as plt\n",
    "import pandas as pd\n",
    "import matplotlib.pyplot as plt\n",
    "import numpy as np\n",
    "import seaborn as sns\n",
    "import scipy"
   ]
  },
  {
   "cell_type": "code",
   "execution_count": null,
   "id": "d0006c32",
   "metadata": {},
   "outputs": [],
   "source": [
    "### import data from excel workbook\n",
    "\n",
    "wb = load_workbook('../../../Documents/Nanostring/Records/Initial Dataset.xlsx')\n",
    "\n",
    "print(wb.sheetnames)\n",
    "ws = wb['Exported dataset']\n",
    "\n",
    "values = [[y.value for y in x] for x in ws[ws.calculate_dimension()]]\n",
    "# values"
   ]
  },
  {
   "cell_type": "code",
   "execution_count": null,
   "id": "f7c59002",
   "metadata": {
    "scrolled": true
   },
   "outputs": [],
   "source": [
    "### Convert nested list to a pandas dataFrame and extract expression data with labels\n",
    "\n",
    "df = pd.DataFrame(values)\n",
    "\n",
    "rowLabels = df.iloc[23:,3]\n",
    "# rowLabels = [x.split(' (')[0] for x in rowLabels.values]\n",
    "rowLabels = dict(zip([x for x in range(23,23+len(rowLabels))],rowLabels))\n",
    "rowLabels\n",
    "\n",
    "colLabels = df.iloc[0,4:]\n",
    "colLabels = [x.replace(' | ','_') for x in colLabels.values]\n",
    "colLabels = dict(zip([x for x in range(4,4+len(colLabels))],colLabels))\n",
    "colLabels\n",
    "\n",
    "data = df.iloc[23:,4:].astype(np.float32)\n",
    "data.rename(index=rowLabels,columns=colLabels, inplace=True)\n",
    "\n",
    "\n",
    "data\n",
    "\n",
    "dataOrig = data\n",
    "\n"
   ]
  },
  {
   "cell_type": "code",
   "execution_count": null,
   "id": "1fa0d0f6",
   "metadata": {},
   "outputs": [],
   "source": [
    "data.loc['HYB-POS']\n",
    "\n",
    "posGMean = stats.gmean([round(x) for x in data.loc['HYB-POS'].values])\n"
   ]
  },
  {
   "cell_type": "code",
   "execution_count": null,
   "id": "ff7e8895",
   "metadata": {},
   "outputs": [],
   "source": [
    "posGMean"
   ]
  },
  {
   "cell_type": "code",
   "execution_count": null,
   "id": "c70903f9",
   "metadata": {},
   "outputs": [],
   "source": [
    "data = (data/data.loc['HYB-POS'])*posGMean"
   ]
  },
  {
   "cell_type": "code",
   "execution_count": null,
   "id": "cf82c4ad",
   "metadata": {},
   "outputs": [],
   "source": [
    "data"
   ]
  },
  {
   "cell_type": "code",
   "execution_count": null,
   "id": "b6ad5b0a",
   "metadata": {},
   "outputs": [],
   "source": [
    "plt.matshow(data)"
   ]
  },
  {
   "cell_type": "code",
   "execution_count": null,
   "id": "08fcc0dc",
   "metadata": {},
   "outputs": [],
   "source": [
    "mean = data.mean(axis = 1)\n",
    "data = data.assign(mean=mean.values)"
   ]
  },
  {
   "cell_type": "code",
   "execution_count": null,
   "id": "de0397f9",
   "metadata": {},
   "outputs": [],
   "source": [
    "mean = data.mean(axis = 1)\n",
    "data = data.assign(mean=mean.values)\n",
    "\n",
    "probeClass = df.iloc[23:,2]      ### Index needs updating here also\n",
    "\n",
    "probeClass.rename(index=rowLabels, inplace=True)\n",
    "probeClass.rename(index='ProbeClass', inplace=True)\n",
    "probeClass\n",
    "\n",
    "probeClassDict = {\n",
    "    'Positive': 'A',\n",
    "    'Negative': 'B',\n",
    "    'Control': 'C',\n",
    "    'Endogenous': 'E'\n",
    "}\n",
    "data = data.assign(probeClass=[probeClassDict[v] for v in probeClass.values])"
   ]
  },
  {
   "cell_type": "code",
   "execution_count": null,
   "id": "66526dcd",
   "metadata": {},
   "outputs": [],
   "source": [
    "probeClass.shape"
   ]
  },
  {
   "cell_type": "code",
   "execution_count": null,
   "id": "b6ba88a4",
   "metadata": {},
   "outputs": [],
   "source": [
    "probeClassDict = {\n",
    "    'Positive': 'A',\n",
    "    'Negative': 'B',\n",
    "    'Control': 'C',\n",
    "    'Endogenous': 'E'\n",
    "}\n",
    "data = data.assign(probeClass=[probeClassDict[v] for v in probeClass.values])"
   ]
  },
  {
   "cell_type": "code",
   "execution_count": null,
   "id": "d98c0085",
   "metadata": {},
   "outputs": [],
   "source": [
    "\n",
    "dataSorted = data.sort_values(by = ['probeClass', 'mean'], ascending=[True,True])# , inplace=True)  #, kind='quicksort', na_position='last', ignore_index=False, key=None)\n",
    "\n",
    "\n"
   ]
  },
  {
   "cell_type": "code",
   "execution_count": null,
   "id": "0b765df0",
   "metadata": {},
   "outputs": [],
   "source": [
    "### Extract control and endogenous labels for targets/probes\n",
    "\n",
    "TargetClass = pd.DataFrame(df.iloc[28:,3:4])\n",
    "TargetClass.rename(index=df.iloc[28:,2], columns=df.iloc[27,2:4], inplace=True)\n",
    "\n",
    "negCTLs = TargetClass.loc['Negative'].values.flatten()\n",
    "posCTLs = TargetClass.loc['Positive'].values.flatten()\n",
    "HK = TargetClass.loc['Control'].values.flatten()\n",
    "endog = TargetClass.loc['Endogenous'].values.flatten()\n",
    "\n",
    "print(negCTLs.shape)\n",
    "print(posCTLs.shape)\n",
    "print(HK.shape)\n",
    "print(endog.shape)\n",
    "\n"
   ]
  },
  {
   "cell_type": "code",
   "execution_count": null,
   "id": "20fa8ef3",
   "metadata": {},
   "outputs": [],
   "source": [
    "negCTLs = [negCTLs[0]] + [negCTLs[2]]"
   ]
  },
  {
   "cell_type": "code",
   "execution_count": null,
   "id": "cdc38d02",
   "metadata": {},
   "outputs": [],
   "source": [
    "HK= [HK[0]] + [HK[2]]"
   ]
  },
  {
   "cell_type": "code",
   "execution_count": null,
   "id": "8b86cbfd",
   "metadata": {},
   "outputs": [],
   "source": [
    "# To drop mean and probeClass columns use the following code\n",
    "# data.drop(labels=['mean','probeClass'], axis=1)\n",
    "\n",
    "# Calculate negative control Geometric mean and Housekeeping gene Geometric mean\n",
    "negGMean = stats.gmean([[round(x) for x in y ] for y in data.drop(labels=['mean','probeClass'], axis=1).loc[negCTLs].values])\n",
    "HKGMean = stats.gmean([[round(x) for x in y ] for y in data.drop(labels=['mean','probeClass'], axis=1).loc[HK].values])\n",
    "\n",
    "negGMean = pd.Series(negGMean, index = data.columns[:-2])\n",
    "HKGMean = pd.Series(HKGMean, index = data.columns[:-2])\n",
    "negGMeanLog2 = negGMean.transform(lambda x : np.log2(x))\n",
    "HKGMeanLog2 = HKGMean.transform(lambda x : np.log2(x))\n",
    "# negGMeanLog2.sort_values(inplace=True)\n",
    "# HKGMeanLog2.sort_values(inplace=True)"
   ]
  },
  {
   "cell_type": "code",
   "execution_count": null,
   "id": "2dbd0d21",
   "metadata": {
    "scrolled": true
   },
   "outputs": [],
   "source": [
    "negGMean"
   ]
  },
  {
   "cell_type": "code",
   "execution_count": null,
   "id": "2edf6121",
   "metadata": {
    "scrolled": true
   },
   "outputs": [],
   "source": [
    "HKGMeanLog2"
   ]
  },
  {
   "cell_type": "code",
   "execution_count": null,
   "id": "9903013b",
   "metadata": {},
   "outputs": [],
   "source": [
    "endogData = data.drop(labels=['mean','probeClass'], axis=1).loc[endog]\n",
    "# endogNorm = endogData/HKGMean\n",
    "endogNorm = endogData/negGMean"
   ]
  },
  {
   "cell_type": "code",
   "execution_count": null,
   "id": "8dab32d1",
   "metadata": {
    "scrolled": true
   },
   "outputs": [],
   "source": [
    "endogNorm"
   ]
  },
  {
   "cell_type": "code",
   "execution_count": null,
   "id": "8d79c45a",
   "metadata": {
    "scrolled": true
   },
   "outputs": [],
   "source": [
    "### Extract descriptions for each sample\n",
    "\n",
    "sampleInfo = pd.DataFrame(df.iloc[0:17,4:])\n",
    "sampleInfo.rename(index=df.iloc[0:17,0], columns=colLabels, inplace=True)\n",
    "\n",
    "print(sampleInfo.shape)\n",
    "sampleInfo\n"
   ]
  },
  {
   "cell_type": "code",
   "execution_count": null,
   "id": "2f4a40a5",
   "metadata": {},
   "outputs": [],
   "source": [
    "nuclei = sampleInfo.loc['AOI nuclei count']#.values.flatten()\n",
    "surfArea = sampleInfo.loc['AOI surface area']#.values.flatten()\n"
   ]
  },
  {
   "cell_type": "code",
   "execution_count": null,
   "id": "40600204",
   "metadata": {},
   "outputs": [],
   "source": [
    "negScaled = (data.drop(labels=['mean','probeClass'], axis=1)/negGMean).applymap(np.log2)\n",
    "\n",
    "\n",
    "mean = negScaled.mean(axis = 1)\n",
    "negScaled = negScaled.assign(mean=mean.values)\n",
    "\n",
    "\n",
    "\n",
    "negScaled = negScaled.assign(probeClass=[probeClassDict[v] for v in probeClass.values])\n",
    "\n",
    "\n",
    "negScaled.sort_values(by = ['probeClass', 'mean'], ascending=[True,True] , inplace=True)"
   ]
  },
  {
   "cell_type": "code",
   "execution_count": null,
   "id": "26495297",
   "metadata": {
    "scrolled": true
   },
   "outputs": [],
   "source": [
    "negScaled"
   ]
  },
  {
   "cell_type": "code",
   "execution_count": null,
   "id": "ccc20486",
   "metadata": {
    "scrolled": true
   },
   "outputs": [],
   "source": [
    "data"
   ]
  },
  {
   "cell_type": "code",
   "execution_count": null,
   "id": "60156e52",
   "metadata": {
    "scrolled": false
   },
   "outputs": [],
   "source": [
    "# Log2 Signal-to-Background Ratio\n",
    "plt.figure(figsize=(20,10))\n",
    "\n",
    "plt.boxplot(negScaled.drop(labels=['mean','probeClass'], axis=1).T, sym='.', labels=negScaled.index)\n",
    "plt.violinplot(negScaled.drop(labels=['mean','probeClass'], axis=1).T)\n",
    "plt.xticks(rotation = 90)\n",
    "plt.axhline(y=0.0, color='r', linestyle='-')\n"
   ]
  },
  {
   "cell_type": "code",
   "execution_count": null,
   "id": "2d7550a4",
   "metadata": {
    "scrolled": true
   },
   "outputs": [],
   "source": [
    "# colours = ['g' if x.split('_')[-1] == 'Tumour' else 'r' for x in data.drop(labels=['mean','probeClass'], axis=1).columns]\n",
    "colours = ['g' if x.split('_')[-1] == 'Tumour' else 'r' if x.split('_')[-1] == 'Immune' else 'purple' for x in data.drop(labels=['mean','probeClass'], axis=1).columns]\n",
    "\n"
   ]
  },
  {
   "cell_type": "code",
   "execution_count": null,
   "id": "bdb1a909",
   "metadata": {},
   "outputs": [],
   "source": [
    "plt.figure(figsize=(10,5))\n",
    "plt.hist(np.log2(HKGMean), bins=12)\n",
    "plt.xlim(0,15)"
   ]
  },
  {
   "cell_type": "code",
   "execution_count": null,
   "id": "b73d39e9",
   "metadata": {},
   "outputs": [],
   "source": [
    "HKGMeanLog2 = HKGMeanLog2.sort_values()\n",
    "\n",
    "colours = ['g' if x.split('_')[-1] == 'Tumour' else 'r' if x.split('_')[-1] == 'Immune' else 'purple' for x in HKGMeanLog2.index]\n",
    "\n",
    "plt.figure(figsize=(10,5))\n",
    "plt.bar(np.linspace(1,len(HKGMeanLog2),len(HKGMeanLog2)), HKGMeanLog2, color=colours)\n",
    "plt.ylim(0,15)\n",
    "\n",
    "### Need to colour the bars by some defining features"
   ]
  },
  {
   "cell_type": "code",
   "execution_count": null,
   "id": "940e7a92",
   "metadata": {},
   "outputs": [],
   "source": [
    "# Frequency vs AOIs log2 HK Geomean(Counts)\n",
    "# AOIs log2 HK Geomean(Counts) vs Individual AOIs\n",
    "\n",
    "# Frequency vs AOIs log2 IgG Geomean(Counts)\n",
    "# AOIs log2 IgG Geomean(Counts) vs Individual AOIs\n",
    "\n",
    "plt.figure(figsize=(10,5))\n",
    "\n",
    "plt.hist(np.log2(negGMean), bins=12)\n",
    "plt.xlim(0,15)\n",
    "\n"
   ]
  },
  {
   "cell_type": "code",
   "execution_count": null,
   "id": "b1545f0b",
   "metadata": {},
   "outputs": [],
   "source": [
    "###\n",
    "plt.figure(figsize=(10,5))\n",
    "negGMeanLog2 = negGMeanLog2.sort_values()\n",
    "# colours = ['g' if x.split('_')[-1] == 'Tumour' else 'r' for x in negGMeanLog2.index]\n",
    "colours = ['g' if x.split('_')[-1] == 'Tumour' else 'r' if x.split('_')[-1] == 'Immune' else 'purple' for x in negGMeanLog2.index]\n",
    "\n",
    "plt.bar(np.linspace(1,len(negGMeanLog2),len(negGMeanLog2)), negGMeanLog2, color=colours)\n",
    "# plt.semilogy()\n",
    "plt.ylim(0,15)\n"
   ]
  },
  {
   "cell_type": "code",
   "execution_count": null,
   "id": "1da1dfa3",
   "metadata": {},
   "outputs": [],
   "source": [
    "###\n",
    "# Matrix of HK expression plots\n",
    "rows = 3\n",
    "cols = 3\n",
    "\n",
    "fig, axes = plt.subplots(rows,cols, figsize=(15,15))\n",
    "\n",
    "\n",
    "S6 = [np.log2(x) for x in data.drop(labels=['mean','probeClass'], axis=1).loc['S6'].values]\n",
    "H3 = [np.log2(x) for x in data.drop(labels=['mean','probeClass'], axis=1).loc['Histone H3'].values]\n",
    "GAPDH = [np.log2(x) for x in data.drop(labels=['mean','probeClass'], axis=1).loc['GAPDH'].values]\n",
    "\n",
    "labels = ['S6', 'H3', 'GAPDH']\n",
    "dataList = [S6, H3, GAPDH]\n",
    "\n",
    "axMin = int(min([min(x) for x in dataList]))\n",
    "axMax = int(max([max(x) for x in dataList]))+1\n",
    "\n",
    "\n",
    "for r in range(rows):\n",
    "    for c in range(cols):\n",
    "        if r==c: # This is a diagonal, insert a label\n",
    "            axes[r][c].text(0.5,0.5, labels[r],ha='center', va='center', transform=axes[r][c].transAxes,fontsize=36)\n",
    "        else:\n",
    "            axes[r][c].scatter(dataList[c], dataList[r], c=colours)\n",
    "            slope, intercept, r_value, p_value, std_err = scipy.stats.linregress(dataList[c], dataList[r])\n",
    "            axes[r][c].text(0.9,0.9, \"r_value = \" + str(r_value)[:5],ha='right', va='center', transform=axes[r][c].transAxes)\n",
    "            axes[r][c].text(0.9,0.8, \"slope = \" + str(slope)[:5],ha='right', va='center', transform=axes[r][c].transAxes)\n",
    "            axes[r][c].set_xlim(axMin,axMax)\n",
    "            axes[r][c].set_ylim(axMin,axMax)\n"
   ]
  },
  {
   "cell_type": "code",
   "execution_count": null,
   "id": "da2268ef",
   "metadata": {},
   "outputs": [],
   "source": [
    "\n",
    "# Matrix of IgG expression plots\n",
    "rows = 3\n",
    "cols = 3\n",
    "\n",
    "fig, axes = plt.subplots(rows,cols, figsize=(15,15))\n",
    "\n",
    "\n",
    "mIG1 = [np.log2(x) for x in data.drop(labels=['mean','probeClass'], axis=1).loc['Ms IgG1'].values]\n",
    "mIG2 = [np.log2(x) for x in data.drop(labels=['mean','probeClass'], axis=1).loc['Ms IgG2a'].values]\n",
    "rIG = [np.log2(x) for x in data.drop(labels=['mean','probeClass'], axis=1).loc['Rb IgG'].values]\n",
    "\n",
    "labels = ['Ms_IgG1', 'Ms_IgG2a', 'Rb_IgG']\n",
    "dataList = [mIG1,mIG2,rIG]\n",
    "\n",
    "axMin = int(min([min(x) for x in dataList]))\n",
    "axMax = int(max([max(x) for x in dataList]))+1\n",
    "\n",
    "\n",
    "for r in range(rows):\n",
    "    for c in range(cols):\n",
    "        if r==c: # This is a diagonal, insert a label\n",
    "            axes[r][c].text(0.5,0.5, labels[r],ha='center', va='center', transform=axes[r][c].transAxes,fontsize=36)\n",
    "        else:\n",
    "            axes[r][c].scatter(dataList[c], dataList[r], c=colours)\n",
    "            slope, intercept, r_value, p_value, std_err = scipy.stats.linregress(dataList[c], dataList[r])\n",
    "            axes[r][c].text(0.9,0.9, \"r_value = \" + str(r_value)[:5],ha='right', va='center', transform=axes[r][c].transAxes)\n",
    "            axes[r][c].text(0.9,0.8, \"slope = \" + str(slope)[:5],ha='right', va='center', transform=axes[r][c].transAxes)\n",
    "            axes[r][c].set_xlim(axMin,axMax)\n",
    "            axes[r][c].set_ylim(axMin,axMax)\n",
    "                "
   ]
  },
  {
   "cell_type": "code",
   "execution_count": null,
   "id": "4976061a",
   "metadata": {},
   "outputs": [],
   "source": []
  },
  {
   "cell_type": "code",
   "execution_count": null,
   "id": "968d7cd4",
   "metadata": {},
   "outputs": [],
   "source": []
  },
  {
   "cell_type": "code",
   "execution_count": null,
   "id": "8379042d",
   "metadata": {},
   "outputs": [],
   "source": [
    "# Matrix of IgG expression plots\n",
    "rows = 4\n",
    "cols = 4\n",
    "\n",
    "fig, axes = plt.subplots(rows,cols, figsize=(15,15))\n",
    "\n",
    "labels = ['HKGMean', 'negGMean', 'Area', 'Nuclei']\n",
    "dataList = [np.log2(HKGMean), np.log2(negGMean), np.log2(list(surfArea.values)), np.log2(list(nuclei.values))]\n",
    "\n",
    "axMin = int(min([min(x) for x in dataList]))\n",
    "axMax = int(max([max(x) for x in dataList]))+1\n",
    "\n",
    "\n",
    "for r in range(rows):\n",
    "    for c in range(cols):\n",
    "        if r==c: # This is a diagonal, insert a label\n",
    "            axes[r][c].text(0.5,0.5, labels[r],ha='center', va='center', transform=axes[r][c].transAxes,fontsize=36)\n",
    "        else:\n",
    "            axes[r][c].scatter(dataList[c], dataList[r], c=colours)\n",
    "            slope, intercept, r_value, p_value, std_err = scipy.stats.linregress(dataList[c], dataList[r])\n",
    "            axes[r][c].text(0.9,0.9, \"r_value = \" + str(r_value)[:5],ha='right', va='center', transform=axes[r][c].transAxes)\n",
    "            axes[r][c].text(0.9,0.8, \"slope = \" + str(slope)[:5],ha='right', va='center', transform=axes[r][c].transAxes)\n",
    "            axes[r][c].set_xlim(axMin,axMax)\n",
    "            axes[r][c].set_ylim(axMin,axMax)\n",
    "                \n",
    "            \n",
    "        \n",
    "    "
   ]
  },
  {
   "cell_type": "code",
   "execution_count": null,
   "id": "a8d281a0",
   "metadata": {},
   "outputs": [],
   "source": [
    "dataHKGMScaled = data.drop(labels=['mean','probeClass'], axis=1).reindex(labels=negScaled.index)/HKGMean\n",
    "dataHKGMScaled.to_csv('HK_Geo_Mean_Scaled.csv')\n",
    "\n",
    "dataNegGMScaled = data.drop(labels=['mean','probeClass'], axis=1).reindex(labels=negScaled.index)/negGMean\n",
    "dataNegGMScaled.to_csv('Neg_Geo_Mean_Scaled.csv')"
   ]
  },
  {
   "cell_type": "code",
   "execution_count": null,
   "id": "8ab15554",
   "metadata": {},
   "outputs": [],
   "source": [
    "# Plot raw data before any normalisation\n",
    "\n",
    "\n",
    "plt.figure(figsize=(20,10))\n",
    "\n",
    "plt.boxplot(dataOrig.reindex(labels=negScaled.index).T.applymap(np.log2), sym='-', labels=negScaled.index)\n",
    "\n",
    "for i,j in enumerate(negScaled.index):\n",
    "    y = dataOrig.loc[j]\n",
    "    colours = ['g.' if v.split('_')[-1] == 'Tumour' else 'r.' if v.split('_')[-1] == 'Immune' else 'b.' for v in y.index]\n",
    "    y = y\n",
    "    y = y.values\n",
    "    x = np.random.normal(i+1, 0.1, len(y))\n",
    "    \n",
    "    for i in range(len(x)): \n",
    "        plt.plot(x[i], np.log2(y[i]), colours[i])\n",
    "plt.xticks(rotation = 90)\n",
    "plt.xlabel=list(negScaled.index)\n",
    "\n",
    "\n"
   ]
  },
  {
   "cell_type": "code",
   "execution_count": null,
   "id": "6f1d6ab7",
   "metadata": {},
   "outputs": [],
   "source": [
    "# plot RCC normalised data\n",
    "\n",
    "plt.figure(figsize=(20,10))\n",
    "\n",
    "plt.boxplot(data.drop(labels=['mean','probeClass'], axis=1).reindex(labels=negScaled.index).T.applymap(np.log2), sym='-', labels=negScaled.index)\n",
    "\n",
    "for i,j in enumerate(negScaled.index):\n",
    "    y = data.loc[j].drop(index=['mean','probeClass'], axis=1)\n",
    "    colours = ['g.' if v.split('_')[-1] == 'Tumour' else 'r.' if v.split('_')[-1] == 'Immune' else 'b.' for v in y.index]\n",
    "    y = y\n",
    "    y = y.values\n",
    "    x = np.random.normal(i+1, 0.1, len(y))\n",
    "    for i in range(len(x)): \n",
    "        plt.plot(x[i], np.log2(y[i]), colours[i])\n",
    "plt.xticks(rotation = 90)\n",
    "plt.xlabel=list(negScaled.index)\n",
    "\n",
    "\n"
   ]
  },
  {
   "cell_type": "code",
   "execution_count": null,
   "id": "8fd8008d",
   "metadata": {
    "scrolled": false
   },
   "outputs": [],
   "source": [
    "# Plot HK normalised data\n",
    "plt.figure(figsize=(20,10))\n",
    "\n",
    "plt.boxplot((data.drop(labels=['mean','probeClass'], axis=1).reindex(labels=negScaled.index)/HKGMean).T.applymap(np.log2), sym='-', labels=negScaled.index)\n",
    "\n",
    "for i,j in enumerate(negScaled.index):\n",
    "    y = data.loc[j].drop(index=['mean','probeClass'], axis=1)\n",
    "    colours = ['g.' if v.split('_')[-1] == 'Tumour' else 'r.' if v.split('_')[-1] == 'Immune' else 'b.' for v in y.index]\n",
    "    y = y/HKGMean\n",
    "    y = y.values\n",
    "    x = np.random.normal(i+1, 0.1, len(y))\n",
    "    \n",
    "    for i in range(len(x)): \n",
    "        plt.plot(x[i], np.log2(y[i]), colours[i])#, alpha=0.02)\n",
    "plt.xticks(rotation = 90)\n",
    "    \n"
   ]
  },
  {
   "cell_type": "code",
   "execution_count": null,
   "id": "adb142a4",
   "metadata": {},
   "outputs": [],
   "source": [
    "# Plot negative probe normalised data\n",
    "plt.figure(figsize=(20,10))\n",
    "\n",
    "plt.boxplot(negScaled.drop(labels=['mean','probeClass'], axis=1).T, sym='.', labels=negScaled.index)\n",
    "\n",
    "for i,j in enumerate(negScaled.index):\n",
    "    y = data.loc[j].drop(index=['mean','probeClass'], axis=1)\n",
    "    colours = ['g.' if v.split('_')[-1] == 'Tumour' else 'r.' if v.split('_')[-1] == 'Immune' else 'b.' for v in y.index]\n",
    "    y = y/negGMean\n",
    "    y = y.values\n",
    "    x = np.random.normal(i+1, 0.1, len(y))\n",
    "    \n",
    "    for i in range(len(x)): \n",
    "        plt.plot(x[i], np.log2(y[i]), colours[i])\n",
    "plt.xticks(rotation = 90)\n",
    "plt.axhline(y=0.0, color='r', linestyle='-')\n",
    "plt.xlabel=list(negScaled.index)\n",
    "    \n"
   ]
  },
  {
   "cell_type": "code",
   "execution_count": null,
   "id": "ca362c65",
   "metadata": {},
   "outputs": [],
   "source": []
  },
  {
   "cell_type": "code",
   "execution_count": null,
   "id": "7bc25e66",
   "metadata": {},
   "outputs": [],
   "source": [
    "# To Do:\n",
    "\n",
    "### Generate new dataFrame with mask of where individual values are below HYB-NEG\n",
    "\n",
    "\n",
    "### Generate new dataFrame with mask of where individual values are below NegGeoMean \n",
    "### Generate new dataFrame with mask of where mean value of a probe is below NegGeoMean "
   ]
  },
  {
   "cell_type": "code",
   "execution_count": null,
   "id": "4a3ec016",
   "metadata": {},
   "outputs": [],
   "source": []
  }
 ],
 "metadata": {
  "kernelspec": {
   "display_name": "Python 3 (ipykernel)",
   "language": "python",
   "name": "python3"
  },
  "language_info": {
   "codemirror_mode": {
    "name": "ipython",
    "version": 3
   },
   "file_extension": ".py",
   "mimetype": "text/x-python",
   "name": "python",
   "nbconvert_exporter": "python",
   "pygments_lexer": "ipython3",
   "version": "3.8.12"
  }
 },
 "nbformat": 4,
 "nbformat_minor": 5
}
